{
 "cells": [
  {
   "cell_type": "code",
   "execution_count": null,
   "metadata": {},
   "outputs": [],
   "source": [
    "from asf.selectors import SimpleRanking\n",
    "from xgboost import XGBRanker"
   ]
  }
 ],
 "metadata": {
  "kernelspec": {
   "display_name": "asf_env",
   "language": "python",
   "name": "python3"
  },
  "language_info": {
   "name": "python",
   "version": "3.10.8"
  }
 },
 "nbformat": 4,
 "nbformat_minor": 2
}
